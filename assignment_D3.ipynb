{
  "nbformat": 4,
  "nbformat_minor": 0,
  "metadata": {
    "colab": {
      "name": "assignment D3.ipynb",
      "provenance": [],
      "authorship_tag": "ABX9TyPEdlSgxb9DOUuZSAol+Th7",
      "include_colab_link": true
    },
    "kernelspec": {
      "name": "python3",
      "display_name": "Python 3"
    },
    "language_info": {
      "name": "python"
    }
  },
  "cells": [
    {
      "cell_type": "markdown",
      "metadata": {
        "id": "view-in-github",
        "colab_type": "text"
      },
      "source": [
        "<a href=\"https://colab.research.google.com/github/Satyamjan22/Python-D1/blob/main/assignment_D3.ipynb\" target=\"_parent\"><img src=\"https://colab.research.google.com/assets/colab-badge.svg\" alt=\"Open In Colab\"/></a>"
      ]
    },
    {
      "cell_type": "code",
      "metadata": {
        "colab": {
          "base_uri": "https://localhost:8080/"
        },
        "id": "bRDAsTOCiio7",
        "outputId": "1b6395e5-8a30-4a67-9c15-0a06c57272a5"
      },
      "source": [
        "s = \"hello\"\n",
        "s_set = set(s)\n",
        "count = {}\n",
        "for x in s_set:\n",
        "    c = 0\n",
        "    for y in s:\n",
        "        if x == y:\n",
        "            c = c + 1\n",
        "    count[x] = c\n",
        "\n",
        "for i in count:\n",
        "    print(f\"{i} - {count[i]}\")"
      ],
      "execution_count": 1,
      "outputs": [
        {
          "output_type": "stream",
          "text": [
            "l - 2\n",
            "e - 1\n",
            "o - 1\n",
            "h - 1\n"
          ],
          "name": "stdout"
        }
      ]
    }
  ]
}