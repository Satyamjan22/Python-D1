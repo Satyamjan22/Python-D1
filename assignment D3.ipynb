{
  "nbformat": 4,
  "nbformat_minor": 0,
  "metadata": {
    "colab": {
      "name": "Untitled0.ipynb",
      "provenance": [],
      "authorship_tag": "ABX9TyPgiFWrKkBirxgE3jU9S/1q",
      "include_colab_link": true
    },
    "kernelspec": {
      "name": "python3",
      "display_name": "Python 3"
    },
    "language_info": {
      "name": "python"
    }
  },
  "cells": [
    {
      "cell_type": "markdown",
      "metadata": {
        "id": "view-in-github",
        "colab_type": "text"
      },
      "source": [
        "<a href=\"https://colab.research.google.com/github/Satyamjan22/Python-D1/blob/main/assignment%20D3.ipynb\" target=\"_parent\"><img src=\"https://colab.research.google.com/assets/colab-badge.svg\" alt=\"Open In Colab\"/></a>"
      ]
    },
    {
      "cell_type": "code",
      "metadata": {
        "colab": {
          "base_uri": "https://localhost:8080/"
        },
        "id": "-dZoq5YddEYq",
        "outputId": "cc88d2ef-20ab-431b-c051-24574a8c02a4"
      },
      "source": [
        "def div(a,b):\n",
        "  return b/a\n",
        "num1=int(input(\"Please input the number for num1:\"));\n",
        "num2=int(input(\"Please input the number for num2:\"));\n",
        "print(\"Division of given numbers is:\",div(num1,num2))"
      ],
      "execution_count": null,
      "outputs": [
        {
          "output_type": "stream",
          "text": [
            "Please input the number for num1:45\n",
            "Please input the number for num2:9\n",
            "Division of given numbers is: 0.2\n"
          ],
          "name": "stdout"
        }
      ]
    },
    {
      "cell_type": "code",
      "metadata": {
        "colab": {
          "base_uri": "https://localhost:8080/"
        },
        "id": "hwKg9O9Qd5ZH",
        "outputId": "4bd7c814-b7b9-4a54-b40c-32d8203ab256"
      },
      "source": [
        "# import modules\n",
        "\n",
        "import math as m\n",
        "\n",
        "import random as r\n",
        "\n",
        " \n",
        "\n",
        "# function to generate OTP\n",
        "\n",
        "def OTPgen() :\n",
        "\n",
        " \n",
        "\n",
        "    # Declare a string variable  \n",
        "\n",
        "    # which stores all alpha-numeric characters\n",
        "\n",
        "    string = 'abcdefghijklmnopqrstuvwxyzABCDEFGHIJKLMNOPQRSTUVWXYZ'\n",
        "\n",
        "    OTP = \"\"\n",
        "\n",
        "    varlen= len(string)\n",
        "\n",
        "    for i in range(6) :\n",
        "\n",
        "        OTP += string[m.floor(r.random() * varlen)]\n",
        "\n",
        "    print(\"One time password is\")\n",
        "\n",
        "    print(OTP)\n",
        "\n",
        " \n",
        "\n",
        "OTPgen()\n",
        "\n"
      ],
      "execution_count": null,
      "outputs": [
        {
          "output_type": "stream",
          "text": [
            "One time password is\n",
            "RGHncH\n"
          ],
          "name": "stdout"
        }
      ]
    }
  ]
}