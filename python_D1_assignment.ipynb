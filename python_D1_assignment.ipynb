{
  "nbformat": 4,
  "nbformat_minor": 0,
  "metadata": {
    "colab": {
      "name": "python D1 assignment",
      "provenance": [],
      "authorship_tag": "ABX9TyMI4a/t+SiFvzW+UmNWIsAk",
      "include_colab_link": true
    },
    "kernelspec": {
      "name": "python3",
      "display_name": "Python 3"
    },
    "language_info": {
      "name": "python"
    }
  },
  "cells": [
    {
      "cell_type": "markdown",
      "metadata": {
        "id": "view-in-github",
        "colab_type": "text"
      },
      "source": [
        "<a href=\"https://colab.research.google.com/github/Satyamjan22/Python-D1/blob/main/python_D1_assignment.ipynb\" target=\"_parent\"><img src=\"https://colab.research.google.com/assets/colab-badge.svg\" alt=\"Open In Colab\"/></a>"
      ]
    },
    {
      "cell_type": "code",
      "metadata": {
        "colab": {
          "base_uri": "https://localhost:8080/"
        },
        "id": "8rjVG4lLUvm9",
        "outputId": "84ebbe85-4831-4a53-cb07-f690d9d4a4d8"
      },
      "source": [
        "#Assignment : Take two inputs and store in variable x and y , find x to the power y\n",
        "\n",
        "\n",
        "\n",
        "\n",
        "x = int(input(\"Enter a number:\"))\n",
        "y=int(input(\"Enter another number:\"))\n",
        "p=(pow(x,y))\n",
        "print(p)"
      ],
      "execution_count": 1,
      "outputs": [
        {
          "output_type": "stream",
          "text": [
            "Enter a number:9\n",
            "Enter another number:3\n",
            "729\n"
          ],
          "name": "stdout"
        }
      ]
    }
  ]
}